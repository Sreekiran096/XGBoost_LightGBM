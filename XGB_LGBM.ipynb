{
 "cells": [
  {
   "cell_type": "code",
   "execution_count": 2,
   "metadata": {},
   "outputs": [],
   "source": [
    "# Import Libraries\n",
    "import os\n",
    "import psutil\n",
    "import time\n",
    "\n",
    "import cudf\n",
    "import pandas as pd\n",
    "from datetime import datetime\n",
    "\n",
    "import xgboost as xgb\n",
    "import lightgbm as lgb\n",
    "\n",
    "import warnings\n",
    "warnings.filterwarnings('ignore')"
   ]
  },
  {
   "cell_type": "code",
   "execution_count": 3,
   "metadata": {},
   "outputs": [],
   "source": [
    "# Load Metadata and Climate Data from GHCND\n",
    "metadata = pd.read_fwf('https://www.ncei.noaa.gov/pub/data/ghcn/daily/ghcnd-stations.txt', header= None)\n",
    "metadata.columns = ['station_id', 'latitude', 'longitude', 'elevation', 'name', 'hcn_crn_flag', 'gsn_flag', 'wmo_id']\n",
    "metadata = metadata[['station_id', 'latitude', 'longitude', 'elevation', 'name']]\n",
    "metadata = cudf.DataFrame(metadata)"
   ]
  },
  {
   "cell_type": "code",
   "execution_count": 4,
   "metadata": {},
   "outputs": [],
   "source": [
    "temp_data = cudf.read_csv('/datasets/weather_decomp/2000.csv',header=None) #Downloaded from https://www.ncei.noaa.gov/data/global-historical-climatology-network-daily/\n",
    "temp_data.columns = ['station_id', 'date', 'type', 'value', 'mflag', 'qflag', 'sflag', 'unique_id']"
   ]
  },
  {
   "cell_type": "code",
   "execution_count": 5,
   "metadata": {},
   "outputs": [],
   "source": [
    "req_cols = ['station_id', 'latitude', 'longitude', 'elevation', 'date', 'name', 'type', 'sflag', 'value']\n",
    "data = cudf.merge(temp_data, metadata, on='station_id', how='left')\n",
    "del temp_data\n",
    "del metadata\n",
    "data = data[req_cols]\n",
    "data.dropna(inplace=True)"
   ]
  },
  {
   "cell_type": "code",
   "execution_count": 6,
   "metadata": {},
   "outputs": [],
   "source": [
    "# Pre-processing\n",
    "dates = cudf.to_datetime(data['date'].astype(str), format='%Y%m%d')\n",
    "dates = cudf.DatetimeIndex(dates)\n",
    "data['month'] = dates.month\n",
    "data['day'] = dates.day\n",
    "\n",
    "# Extract country code\n",
    "data['country_code'] = data['station_id'].astype(str).str[:2]"
   ]
  },
  {
   "cell_type": "code",
   "execution_count": 7,
   "metadata": {},
   "outputs": [],
   "source": [
    "features = ['country_code', 'sflag', 'month', 'type', 'day', 'latitude', 'longitude', 'elevation']\n",
    "target = 'value'"
   ]
  },
  {
   "cell_type": "code",
   "execution_count": 8,
   "metadata": {},
   "outputs": [],
   "source": [
    "data['country_code'] = data['country_code'].astype('category')\n",
    "data['month'] = data['month'].astype('category')\n",
    "data['day'] = data['day'].astype('category')\n",
    "data['type'] = data['type'].astype('category')\n",
    "data['sflag'] = data['sflag'].astype('category')"
   ]
  },
  {
   "cell_type": "code",
   "execution_count": 9,
   "metadata": {},
   "outputs": [
    {
     "name": "stdout",
     "output_type": "stream",
     "text": [
      "[22:43:24] WARNING: ../src/objective/regression_obj.cu:203: reg:linear is now deprecated in favor of reg:squarederror.\n",
      "[22:43:24] WARNING: ../src/learner.cc:627: \n",
      "Parameters: { \"n_estimators\", \"silent\", \"verbose_eval\" } might not be used.\n",
      "\n",
      "  This could be a false alarm, with some parameters getting used by language bindings but\n",
      "  then being mistakenly passed down to XGBoost core, or some parameter actually being used\n",
      "  but getting flagged wrongly here. Please open an issue if you find any such cases.\n",
      "\n",
      "\n",
      "[22:43:30] WARNING: ../src/objective/regression_obj.cu:203: reg:linear is now deprecated in favor of reg:squarederror.\n",
      "[22:43:30] WARNING: ../src/learner.cc:627: \n",
      "Parameters: { \"n_estimators\", \"silent\", \"verbose_eval\" } might not be used.\n",
      "\n",
      "  This could be a false alarm, with some parameters getting used by language bindings but\n",
      "  then being mistakenly passed down to XGBoost core, or some parameter actually being used\n",
      "  but getting flagged wrongly here. Please open an issue if you find any such cases.\n",
      "\n",
      "\n",
      "[22:43:40] WARNING: ../src/objective/regression_obj.cu:203: reg:linear is now deprecated in favor of reg:squarederror.\n",
      "[22:43:40] WARNING: ../src/learner.cc:627: \n",
      "Parameters: { \"n_estimators\", \"silent\", \"verbose_eval\" } might not be used.\n",
      "\n",
      "  This could be a false alarm, with some parameters getting used by language bindings but\n",
      "  then being mistakenly passed down to XGBoost core, or some parameter actually being used\n",
      "  but getting flagged wrongly here. Please open an issue if you find any such cases.\n",
      "\n",
      "\n",
      "[22:43:59] WARNING: ../src/objective/regression_obj.cu:203: reg:linear is now deprecated in favor of reg:squarederror.\n",
      "[22:43:59] WARNING: ../src/learner.cc:627: \n",
      "Parameters: { \"n_estimators\", \"silent\", \"verbose_eval\" } might not be used.\n",
      "\n",
      "  This could be a false alarm, with some parameters getting used by language bindings but\n",
      "  then being mistakenly passed down to XGBoost core, or some parameter actually being used\n",
      "  but getting flagged wrongly here. Please open an issue if you find any such cases.\n",
      "\n",
      "\n",
      "[22:44:33] WARNING: ../src/objective/regression_obj.cu:203: reg:linear is now deprecated in favor of reg:squarederror.\n",
      "[22:44:33] WARNING: ../src/learner.cc:627: \n",
      "Parameters: { \"n_estimators\", \"silent\", \"verbose_eval\" } might not be used.\n",
      "\n",
      "  This could be a false alarm, with some parameters getting used by language bindings but\n",
      "  then being mistakenly passed down to XGBoost core, or some parameter actually being used\n",
      "  but getting flagged wrongly here. Please open an issue if you find any such cases.\n",
      "\n",
      "\n"
     ]
    }
   ],
   "source": [
    "# Train the model\n",
    "model_params = {'objective': 'reg:linear', \n",
    "                'learning_rate': 0.1, \n",
    "                'colsample_bytree' : 0.3, \n",
    "                'max_depth': 5, \n",
    "                'n_estimators':10, \n",
    "                'alpha' : 10, \n",
    "                'silent': True, \n",
    "                'verbose_eval': True, \n",
    "                'tree_method':'gpu_hist'}\n",
    "\n",
    "# Create train and test dmatrix\n",
    "dtrain = xgb.DMatrix(data[features], data[target], enable_categorical=True)\n",
    "\n",
    "boost_rounds = [50, 100, 200, 350, 500]\n",
    "\n",
    "latency_dict ={key: list() for key in ['time', 'iterations', 'memory']}\n",
    "\n",
    "for k in boost_rounds:\n",
    "    model_params['n_estimators'] = k\n",
    "    t = time.time()\n",
    "\n",
    "    trained_model = xgb.train(model_params, dtrain, num_boost_round=k )   #, evals=[(dtrain, 'train')]\n",
    "    latency_dict['time'].append(time.time()-t)\n",
    "    latency_dict['iterations'].append(k)\n",
    "    latency_dict['memory'].append(psutil.Process(os.getpid()).memory_info().rss / 1024 ** 2)\n",
    "\n",
    "    del trained_model"
   ]
  },
  {
   "cell_type": "code",
   "execution_count": 10,
   "metadata": {},
   "outputs": [
    {
     "data": {
      "text/plain": [
       "{'time': [6.1391847133636475,\n",
       "  9.757361888885498,\n",
       "  19.496212482452393,\n",
       "  33.870954751968384,\n",
       "  48.16785383224487],\n",
       " 'iterations': [50, 100, 200, 350, 500],\n",
       " 'memory': [1829.3203125, 1829.4140625, 1829.4296875, 1829.4375, 1832.4140625]}"
      ]
     },
     "execution_count": 10,
     "metadata": {},
     "output_type": "execute_result"
    }
   ],
   "source": [
    "latency_dict"
   ]
  },
  {
   "cell_type": "markdown",
   "metadata": {},
   "source": [
    "## Light Gradient Boost"
   ]
  },
  {
   "cell_type": "code",
   "execution_count": 11,
   "metadata": {},
   "outputs": [],
   "source": [
    "model_params = {'objective':'regression',\n",
    "                 'learning_rate': 0.1, \n",
    "                 'feature_fraction': 0.3, \n",
    "                 'max_depth': 5, \n",
    "                 'verbose': -1, \n",
    "                 'n_estimators':10, \n",
    "                 'device': 'gpu', \n",
    "                 'gpu_platform_id':'3', \n",
    "                 'gpu_device_id':'3'\n",
    "                 }"
   ]
  },
  {
   "cell_type": "code",
   "execution_count": 12,
   "metadata": {},
   "outputs": [],
   "source": [
    "# Training\n",
    "\n",
    "lgb_train = lgb.Dataset(data[features].to_pandas(), data[target].to_pandas())\n",
    "\n",
    "lgb_latency_dict ={key: list() for key in ['time','iterations','memory']}\n",
    "\n",
    "for k in boost_rounds:\n",
    "    model_params['n_estimators'] = k\n",
    "    t = time.time()\n",
    "\n",
    "    trained_model = lgb.train(model_params, lgb_train, num_boost_round = k)   #, evals=[(dtrain, 'train')]\n",
    "    lgb_latency_dict['time'].append(time.time()-t)\n",
    "    lgb_latency_dict['iterations'].append(k)\n",
    "    lgb_latency_dict['memory'].append(psutil.Process(os.getpid()).memory_info().rss / 1024 ** 2)\n",
    "\n",
    "    del trained_model"
   ]
  },
  {
   "cell_type": "code",
   "execution_count": 13,
   "metadata": {},
   "outputs": [
    {
     "data": {
      "text/plain": [
       "{'time': [19.352845907211304,\n",
       "  29.407073736190796,\n",
       "  57.138556718826294,\n",
       "  94.49023842811584,\n",
       "  133.39979147911072],\n",
       " 'iterations': [50, 100, 200, 350, 500],\n",
       " 'memory': [2362.890625, 2365.40234375, 2367.90234375, 2370.609375, 2371.9375]}"
      ]
     },
     "execution_count": 13,
     "metadata": {},
     "output_type": "execute_result"
    }
   ],
   "source": [
    "lgb_latency_dict"
   ]
  },
  {
   "cell_type": "code",
   "execution_count": 16,
   "metadata": {},
   "outputs": [],
   "source": [
    "latency_dict['model'] = ['XGB']*5\n",
    "lgb_latency_dict['model'] = ['LGBM']*5"
   ]
  },
  {
   "cell_type": "code",
   "execution_count": 27,
   "metadata": {},
   "outputs": [],
   "source": [
    "results = pd.concat([pd.DataFrame(latency_dict), pd.DataFrame(lgb_latency_dict)])\n",
    "results.reset_index(drop=True, inplace=True)\n",
    "results.columns = ['Time', 'Boosting_rounds', 'Memory', 'Model']"
   ]
  },
  {
   "cell_type": "code",
   "execution_count": 49,
   "metadata": {},
   "outputs": [
    {
     "data": {
      "text/plain": [
       "Text(0.5, 1.0, 'Time taken by XGBoost & LightGBM w.r.t # boosting rounds')"
      ]
     },
     "execution_count": 49,
     "metadata": {},
     "output_type": "execute_result"
    },
    {
     "data": {
      "image/png": "[encoded data removed]",
      "text/plain": [
       "<Figure size 864x576 with 1 Axes>"
      ]
     },
     "metadata": {},
     "output_type": "display_data"
    }
   ],
   "source": [
    "import seaborn as sns\n",
    "\n",
    "sns.set(rc={'figure.figsize':(12,8)})\n",
    "sns.lineplot(data=results, x='Boosting_rounds', y='Time', hue='Model',style='Model', markers=True).set_title('Time taken by XGBoost & LightGBM w.r.t # boosting rounds')"
   ]
  },
  {
   "cell_type": "code",
   "execution_count": 50,
   "metadata": {},
   "outputs": [
    {
     "name": "stdout",
     "output_type": "stream",
     "text": [
      "Wed Jul 27 23:11:24 2022       \n",
      "+-----------------------------------------------------------------------------+\n",
      "| NVIDIA-SMI 495.29.05    Driver Version: 495.29.05    CUDA Version: 11.5     |\n",
      "|-------------------------------+----------------------+----------------------+\n",
      "| GPU  Name        Persistence-M| Bus-Id        Disp.A | Volatile Uncorr. ECC |\n",
      "| Fan  Temp  Perf  Pwr:Usage/Cap|         Memory-Usage | GPU-Util  Compute M. |\n",
      "|                               |                      |               MIG M. |\n",
      "|===============================+======================+======================|\n",
      "|   0  Tesla T4            On   | 00000000:3B:00.0 Off |                    0 |\n",
      "| N/A   54C    P0    28W /  70W |   7759MiB / 15109MiB |      0%      Default |\n",
      "|                               |                      |                  N/A |\n",
      "+-------------------------------+----------------------+----------------------+\n",
      "|   1  Tesla T4            On   | 00000000:5E:00.0 Off |                    0 |\n",
      "| N/A   41C    P8    10W /  70W |      3MiB / 15109MiB |      0%      Default |\n",
      "|                               |                      |                  N/A |\n",
      "+-------------------------------+----------------------+----------------------+\n",
      "|   2  Tesla T4            On   | 00000000:AF:00.0 Off |                    0 |\n",
      "| N/A   33C    P8     9W /  70W |      3MiB / 15109MiB |      0%      Default |\n",
      "|                               |                      |                  N/A |\n",
      "+-------------------------------+----------------------+----------------------+\n",
      "|   3  Tesla T4            On   | 00000000:D8:00.0 Off |                    0 |\n",
      "| N/A   32C    P8     9W /  70W |      3MiB / 15109MiB |      0%      Default |\n",
      "|                               |                      |                  N/A |\n",
      "+-------------------------------+----------------------+----------------------+\n",
      "                                                                               \n",
      "+-----------------------------------------------------------------------------+\n",
      "| Processes:                                                                  |\n",
      "|  GPU   GI   CI        PID   Type   Process name                  GPU Memory |\n",
      "|        ID   ID                                                   Usage      |\n",
      "|=============================================================================|\n",
      "|    0   N/A  N/A    681204      C   ...08_july27_11_5/bin/python      869MiB |\n",
      "|    0   N/A  N/A    924965      C   .../envs/cuml_dev/bin/python     6887MiB |\n",
      "+-----------------------------------------------------------------------------+\n"
     ]
    }
   ],
   "source": [
    "!nvidia-smi"
   ]
  },
  {
   "cell_type": "code",
   "execution_count": null,
   "metadata": {},
   "outputs": [],
   "source": []
  }
 ],
 "metadata": {
  "kernelspec": {
   "display_name": "Python 3 (ipykernel)",
   "language": "python",
   "name": "python3"
  },
  "language_info": {
   "codemirror_mode": {
    "name": "ipython",
    "version": 3
   },
   "file_extension": ".py",
   "mimetype": "text/x-python",
   "name": "python",
   "nbconvert_exporter": "python",
   "pygments_lexer": "ipython3",
   "version": "3.9.7"
  },
  "vscode": {
   "interpreter": {
    "hash": "f75c3baf5102bfc8a4fbca324a6b2053f469a5b84d8bd770c9d4e4e0b05194ac"
   }
  }
 },
 "nbformat": 4,
 "nbformat_minor": 4
}
